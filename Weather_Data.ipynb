{
  "nbformat": 4,
  "nbformat_minor": 0,
  "metadata": {
    "colab": {
      "provenance": [],
      "collapsed_sections": [],
      "mount_file_id": "1CErMcP2p-2wr3fu8Rbryz-GcqMxr0jn3",
      "authorship_tag": "ABX9TyNrlTq1CFo8LqB7W9ktoXCx",
      "include_colab_link": true
    },
    "kernelspec": {
      "name": "python3",
      "display_name": "Python 3"
    },
    "language_info": {
      "name": "python"
    }
  },
  "cells": [
    {
      "cell_type": "markdown",
      "metadata": {
        "id": "view-in-github",
        "colab_type": "text"
      },
      "source": [
        "<a href=\"https://colab.research.google.com/github/khatriprajwol/Data-Base-Design/blob/main/Weather_Data.ipynb\" target=\"_parent\"><img src=\"https://colab.research.google.com/assets/colab-badge.svg\" alt=\"Open In Colab\"/></a>"
      ]
    },
    {
      "cell_type": "code",
      "execution_count": 552,
      "metadata": {
        "id": "53EX4h7Ygd0n"
      },
      "outputs": [],
      "source": [
        "import pandas as pd\n",
        "import requests as re\n",
        "from bs4 import BeautifulSoup\n",
        "import csv\n",
        "from datetime import datetime\n",
        "\n"
      ]
    },
    {
      "cell_type": "code",
      "source": [
        "from numpy import datetime64\n",
        "city = (\"okc weather\",\"ada weather\", \"dallas weather\", \"austin weather\",\"newyork weather\", \"lasvegas weather\")\n",
        "L = [\"okc weather\",\"ada weather\", \"dallas weather\", \"austin weather\",\"newyork weather\", \"lasvegas weather\"]  \n",
        "csv_file = open(\"weather data.csv\",\"w\")\n",
        "csv_writer = csv.writer(csv_file)\n",
        "csv_writer.writerow(['name of city', 'temperature','date'])\n",
        "today = (datetime.now()).strftime(\"%d/%m/%Y\") #%H:%M:%S\")\n",
        "print(today)  \n",
        "for x in L:\n",
        "  if x == \"okc weather\":\n",
        "   x \n",
        "   url= f\"https://www.google.com/search?q={x}\"\n",
        "   request = re.get(url)\n",
        "   soup = BeautifulSoup(request.text, \"html.parser\")\n",
        "   update = soup.find(\"div\", class_ = \"BNeawe\").text\n",
        "   a= print(x, update)\n",
        "   csv_writer.writerow([x, update,today])\n",
        "   continue\n",
        "\n",
        "  if x == \"ada weather\":\n",
        "   x\n",
        "   url= f\"https://www.google.com/search?q={x}\"\n",
        "   request = re.get(url)\n",
        "   soup = BeautifulSoup(request.text, \"html.parser\")\n",
        "   update = soup.find(\"div\", class_ = \"BNeawe\").text\n",
        "   b = print(x, update)\n",
        "   csv_writer.writerow([x, update,today])\n",
        "   continue\n",
        "\n",
        "  if x == \"dallas weather\":\n",
        "   x\n",
        "   url= f\"https://www.google.com/search?q={x}\"\n",
        "   request = re.get(url)\n",
        "   soup = BeautifulSoup(request.text, \"html.parser\")\n",
        "   update = soup.find(\"div\", class_ = \"BNeawe\").text\n",
        "   c = print(x, update)\n",
        "   csv_writer.writerow([x, update,today])\n",
        "   continue\n",
        "\n",
        "  if x == \"austin weather\":\n",
        "   x\n",
        "   url= f\"https://www.google.com/search?q={x}\"\n",
        "   request = re.get(url)\n",
        "   soup = BeautifulSoup(request.text, \"html.parser\")\n",
        "   update = soup.find(\"div\", class_ = \"BNeawe\").text\n",
        "   d= print(x, update)\n",
        "   csv_writer.writerow([x, update,today])\n",
        "   continue\n",
        "\n",
        "  if x == \"newyork weather\":\n",
        "   x\n",
        "   url= f\"https://www.google.com/search?q={x}\"\n",
        "   request = re.get(url)\n",
        "   soup = BeautifulSoup(request.text, \"html.parser\")\n",
        "   update = soup.find(\"div\", class_ = \"BNeawe\").text\n",
        "   e =print(x, update)\n",
        "   csv_writer.writerow([x, update,today])\n",
        "   continue\n",
        "\n",
        "  if x == \"lasvegas weather\":\n",
        "   x\n",
        "   url= f\"https://www.google.com/search?q={x}\"\n",
        "   request = re.get(url)\n",
        "   soup = BeautifulSoup(request.text, \"html.parser\")\n",
        "   update = soup.find(\"div\", class_ = \"BNeawe\").text\n",
        "  f=  print(x, update)\n",
        "  csv_writer.writerow([x, update,today])\n",
        "  break\n",
        "\n",
        "csv_file.close()\n",
        " "
      ],
      "metadata": {
        "colab": {
          "base_uri": "https://localhost:8080/"
        },
        "id": "gxICHEeVtsRp",
        "outputId": "e1cdc138-31d6-40ff-f750-6fc66639145b"
      },
      "execution_count": 553,
      "outputs": [
        {
          "output_type": "stream",
          "name": "stdout",
          "text": [
            "05/10/2022\n",
            "okc weather 75°F\n",
            "ada weather 73°F\n",
            "dallas weather 77°F\n",
            "austin weather 80°F\n",
            "newyork weather 56°F\n",
            "lasvegas weather 90°F\n"
          ]
        }
      ]
    },
    {
      "cell_type": "code",
      "source": [
        "from google.colab import files\n",
        "files.download(\"weather data.csv\")"
      ],
      "metadata": {
        "colab": {
          "base_uri": "https://localhost:8080/",
          "height": 17
        },
        "id": "5KuS7xbPn6qT",
        "outputId": "1881f64d-645b-4cdf-d142-a6203335944b"
      },
      "execution_count": 554,
      "outputs": [
        {
          "output_type": "display_data",
          "data": {
            "text/plain": [
              "<IPython.core.display.Javascript object>"
            ],
            "application/javascript": [
              "\n",
              "    async function download(id, filename, size) {\n",
              "      if (!google.colab.kernel.accessAllowed) {\n",
              "        return;\n",
              "      }\n",
              "      const div = document.createElement('div');\n",
              "      const label = document.createElement('label');\n",
              "      label.textContent = `Downloading \"${filename}\": `;\n",
              "      div.appendChild(label);\n",
              "      const progress = document.createElement('progress');\n",
              "      progress.max = size;\n",
              "      div.appendChild(progress);\n",
              "      document.body.appendChild(div);\n",
              "\n",
              "      const buffers = [];\n",
              "      let downloaded = 0;\n",
              "\n",
              "      const channel = await google.colab.kernel.comms.open(id);\n",
              "      // Send a message to notify the kernel that we're ready.\n",
              "      channel.send({})\n",
              "\n",
              "      for await (const message of channel.messages) {\n",
              "        // Send a message to notify the kernel that we're ready.\n",
              "        channel.send({})\n",
              "        if (message.buffers) {\n",
              "          for (const buffer of message.buffers) {\n",
              "            buffers.push(buffer);\n",
              "            downloaded += buffer.byteLength;\n",
              "            progress.value = downloaded;\n",
              "          }\n",
              "        }\n",
              "      }\n",
              "      const blob = new Blob(buffers, {type: 'application/binary'});\n",
              "      const a = document.createElement('a');\n",
              "      a.href = window.URL.createObjectURL(blob);\n",
              "      a.download = filename;\n",
              "      div.appendChild(a);\n",
              "      a.click();\n",
              "      div.remove();\n",
              "    }\n",
              "  "
            ]
          },
          "metadata": {}
        },
        {
          "output_type": "display_data",
          "data": {
            "text/plain": [
              "<IPython.core.display.Javascript object>"
            ],
            "application/javascript": [
              "download(\"download_4f8ddc9d-ec0b-4059-afdb-9a89b776cbb2\", \"weather data.csv\", 226)"
            ]
          },
          "metadata": {}
        }
      ]
    },
    {
      "cell_type": "code",
      "source": [
        "pd.read_csv('/content/weather data.csv')"
      ],
      "metadata": {
        "colab": {
          "base_uri": "https://localhost:8080/",
          "height": 237
        },
        "id": "pE_TxYLCrW42",
        "outputId": "13f463b6-2d71-45d8-8231-95d145a33389"
      },
      "execution_count": 555,
      "outputs": [
        {
          "output_type": "execute_result",
          "data": {
            "text/plain": [
              "       name of city temperature        date\n",
              "0       okc weather        75°F  05/10/2022\n",
              "1       ada weather        73°F  05/10/2022\n",
              "2    dallas weather        77°F  05/10/2022\n",
              "3    austin weather        80°F  05/10/2022\n",
              "4   newyork weather        56°F  05/10/2022\n",
              "5  lasvegas weather        90°F  05/10/2022"
            ],
            "text/html": [
              "\n",
              "  <div id=\"df-c7ee6d81-a97f-4bc7-abf5-c2f3ab18f355\">\n",
              "    <div class=\"colab-df-container\">\n",
              "      <div>\n",
              "<style scoped>\n",
              "    .dataframe tbody tr th:only-of-type {\n",
              "        vertical-align: middle;\n",
              "    }\n",
              "\n",
              "    .dataframe tbody tr th {\n",
              "        vertical-align: top;\n",
              "    }\n",
              "\n",
              "    .dataframe thead th {\n",
              "        text-align: right;\n",
              "    }\n",
              "</style>\n",
              "<table border=\"1\" class=\"dataframe\">\n",
              "  <thead>\n",
              "    <tr style=\"text-align: right;\">\n",
              "      <th></th>\n",
              "      <th>name of city</th>\n",
              "      <th>temperature</th>\n",
              "      <th>date</th>\n",
              "    </tr>\n",
              "  </thead>\n",
              "  <tbody>\n",
              "    <tr>\n",
              "      <th>0</th>\n",
              "      <td>okc weather</td>\n",
              "      <td>75°F</td>\n",
              "      <td>05/10/2022</td>\n",
              "    </tr>\n",
              "    <tr>\n",
              "      <th>1</th>\n",
              "      <td>ada weather</td>\n",
              "      <td>73°F</td>\n",
              "      <td>05/10/2022</td>\n",
              "    </tr>\n",
              "    <tr>\n",
              "      <th>2</th>\n",
              "      <td>dallas weather</td>\n",
              "      <td>77°F</td>\n",
              "      <td>05/10/2022</td>\n",
              "    </tr>\n",
              "    <tr>\n",
              "      <th>3</th>\n",
              "      <td>austin weather</td>\n",
              "      <td>80°F</td>\n",
              "      <td>05/10/2022</td>\n",
              "    </tr>\n",
              "    <tr>\n",
              "      <th>4</th>\n",
              "      <td>newyork weather</td>\n",
              "      <td>56°F</td>\n",
              "      <td>05/10/2022</td>\n",
              "    </tr>\n",
              "    <tr>\n",
              "      <th>5</th>\n",
              "      <td>lasvegas weather</td>\n",
              "      <td>90°F</td>\n",
              "      <td>05/10/2022</td>\n",
              "    </tr>\n",
              "  </tbody>\n",
              "</table>\n",
              "</div>\n",
              "      <button class=\"colab-df-convert\" onclick=\"convertToInteractive('df-c7ee6d81-a97f-4bc7-abf5-c2f3ab18f355')\"\n",
              "              title=\"Convert this dataframe to an interactive table.\"\n",
              "              style=\"display:none;\">\n",
              "        \n",
              "  <svg xmlns=\"http://www.w3.org/2000/svg\" height=\"24px\"viewBox=\"0 0 24 24\"\n",
              "       width=\"24px\">\n",
              "    <path d=\"M0 0h24v24H0V0z\" fill=\"none\"/>\n",
              "    <path d=\"M18.56 5.44l.94 2.06.94-2.06 2.06-.94-2.06-.94-.94-2.06-.94 2.06-2.06.94zm-11 1L8.5 8.5l.94-2.06 2.06-.94-2.06-.94L8.5 2.5l-.94 2.06-2.06.94zm10 10l.94 2.06.94-2.06 2.06-.94-2.06-.94-.94-2.06-.94 2.06-2.06.94z\"/><path d=\"M17.41 7.96l-1.37-1.37c-.4-.4-.92-.59-1.43-.59-.52 0-1.04.2-1.43.59L10.3 9.45l-7.72 7.72c-.78.78-.78 2.05 0 2.83L4 21.41c.39.39.9.59 1.41.59.51 0 1.02-.2 1.41-.59l7.78-7.78 2.81-2.81c.8-.78.8-2.07 0-2.86zM5.41 20L4 18.59l7.72-7.72 1.47 1.35L5.41 20z\"/>\n",
              "  </svg>\n",
              "      </button>\n",
              "      \n",
              "  <style>\n",
              "    .colab-df-container {\n",
              "      display:flex;\n",
              "      flex-wrap:wrap;\n",
              "      gap: 12px;\n",
              "    }\n",
              "\n",
              "    .colab-df-convert {\n",
              "      background-color: #E8F0FE;\n",
              "      border: none;\n",
              "      border-radius: 50%;\n",
              "      cursor: pointer;\n",
              "      display: none;\n",
              "      fill: #1967D2;\n",
              "      height: 32px;\n",
              "      padding: 0 0 0 0;\n",
              "      width: 32px;\n",
              "    }\n",
              "\n",
              "    .colab-df-convert:hover {\n",
              "      background-color: #E2EBFA;\n",
              "      box-shadow: 0px 1px 2px rgba(60, 64, 67, 0.3), 0px 1px 3px 1px rgba(60, 64, 67, 0.15);\n",
              "      fill: #174EA6;\n",
              "    }\n",
              "\n",
              "    [theme=dark] .colab-df-convert {\n",
              "      background-color: #3B4455;\n",
              "      fill: #D2E3FC;\n",
              "    }\n",
              "\n",
              "    [theme=dark] .colab-df-convert:hover {\n",
              "      background-color: #434B5C;\n",
              "      box-shadow: 0px 1px 3px 1px rgba(0, 0, 0, 0.15);\n",
              "      filter: drop-shadow(0px 1px 2px rgba(0, 0, 0, 0.3));\n",
              "      fill: #FFFFFF;\n",
              "    }\n",
              "  </style>\n",
              "\n",
              "      <script>\n",
              "        const buttonEl =\n",
              "          document.querySelector('#df-c7ee6d81-a97f-4bc7-abf5-c2f3ab18f355 button.colab-df-convert');\n",
              "        buttonEl.style.display =\n",
              "          google.colab.kernel.accessAllowed ? 'block' : 'none';\n",
              "\n",
              "        async function convertToInteractive(key) {\n",
              "          const element = document.querySelector('#df-c7ee6d81-a97f-4bc7-abf5-c2f3ab18f355');\n",
              "          const dataTable =\n",
              "            await google.colab.kernel.invokeFunction('convertToInteractive',\n",
              "                                                     [key], {});\n",
              "          if (!dataTable) return;\n",
              "\n",
              "          const docLinkHtml = 'Like what you see? Visit the ' +\n",
              "            '<a target=\"_blank\" href=https://colab.research.google.com/notebooks/data_table.ipynb>data table notebook</a>'\n",
              "            + ' to learn more about interactive tables.';\n",
              "          element.innerHTML = '';\n",
              "          dataTable['output_type'] = 'display_data';\n",
              "          await google.colab.output.renderOutput(dataTable, element);\n",
              "          const docLink = document.createElement('div');\n",
              "          docLink.innerHTML = docLinkHtml;\n",
              "          element.appendChild(docLink);\n",
              "        }\n",
              "      </script>\n",
              "    </div>\n",
              "  </div>\n",
              "  "
            ]
          },
          "metadata": {},
          "execution_count": 555
        }
      ]
    }
  ]
}