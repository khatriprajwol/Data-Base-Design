{
  "nbformat": 4,
  "nbformat_minor": 0,
  "metadata": {
    "colab": {
      "provenance": [],
      "collapsed_sections": [],
      "mount_file_id": "1CErMcP2p-2wr3fu8Rbryz-GcqMxr0jn3",
      "authorship_tag": "ABX9TyOqc/ELRJ+oCNIOsKQqxK2m",
      "include_colab_link": true
    },
    "kernelspec": {
      "name": "python3",
      "display_name": "Python 3"
    },
    "language_info": {
      "name": "python"
    }
  },
  "cells": [
    {
      "cell_type": "markdown",
      "metadata": {
        "id": "view-in-github",
        "colab_type": "text"
      },
      "source": [
        "<a href=\"https://colab.research.google.com/github/khatriprajwol/Data-Base-Design/blob/main/Weather_Data.ipynb\" target=\"_parent\"><img src=\"https://colab.research.google.com/assets/colab-badge.svg\" alt=\"Open In Colab\"/></a>"
      ]
    },
    {
      "cell_type": "code",
      "execution_count": 541,
      "metadata": {
        "id": "53EX4h7Ygd0n"
      },
      "outputs": [],
      "source": [
        "import pandas as pd\n",
        "import requests as re\n",
        "from bs4 import BeautifulSoup\n",
        "import csv\n",
        "from datetime import datetime\n",
        "\n"
      ]
    },
    {
      "cell_type": "code",
      "source": [
        "from numpy import datetime64\n",
        "city = (\"okc weather\",\"ada weather\", \"dallas weather\", \"austin weather\",\"newyork weather\", \"lasvegas weather\")\n",
        "L = [\"okc weather\",\"ada weather\", \"dallas weather\", \"austin weather\",\"newyork weather\", \"lasvegas weather\"]  \n",
        "csv_file = open(\"weather data.csv\",\"w\")\n",
        "csv_writer = csv.writer(csv_file)\n",
        "csv_writer.writerow(['name of city', 'temperature','date'])\n",
        "today = (datetime.now()).strftime(\"%d/%m/%Y\") #%H:%M:%S\")\n",
        "print(today)  \n",
        "for x in L:\n",
        "  if x == \"okc weather\":\n",
        "   x \n",
        "   url= f\"https://www.google.com/search?q={x}\"\n",
        "   request = re.get(url)\n",
        "   soup = BeautifulSoup(request.text, \"html.parser\")\n",
        "   update = soup.find(\"div\", class_ = \"BNeawe\").text\n",
        "   a= print(x, update)\n",
        "   csv_writer.writerow([x, update,today])\n",
        "   continue\n",
        "\n",
        "  if x == \"ada weather\":\n",
        "   x\n",
        "   url= f\"https://www.google.com/search?q={x}\"\n",
        "   request = re.get(url)\n",
        "   soup = BeautifulSoup(request.text, \"html.parser\")\n",
        "   update = soup.find(\"div\", class_ = \"BNeawe\").text\n",
        "   b = print(x, update)\n",
        "   csv_writer.writerow([x, update,today])\n",
        "   continue\n",
        "\n",
        "  if x == \"dallas weather\":\n",
        "   x\n",
        "   url= f\"https://www.google.com/search?q={x}\"\n",
        "   request = re.get(url)\n",
        "   soup = BeautifulSoup(request.text, \"html.parser\")\n",
        "   update = soup.find(\"div\", class_ = \"BNeawe\").text\n",
        "   c = print(x, update)\n",
        "   csv_writer.writerow([x, update,today])\n",
        "   continue\n",
        "\n",
        "  if x == \"austin weather\":\n",
        "   x\n",
        "   url= f\"https://www.google.com/search?q={x}\"\n",
        "   request = re.get(url)\n",
        "   soup = BeautifulSoup(request.text, \"html.parser\")\n",
        "   update = soup.find(\"div\", class_ = \"BNeawe\").text\n",
        "   d= print(x, update)\n",
        "   csv_writer.writerow([x, update,today])\n",
        "   continue\n",
        "\n",
        "  if x == \"newyork weather\":\n",
        "   x\n",
        "   url= f\"https://www.google.com/search?q={x}\"\n",
        "   request = re.get(url)\n",
        "   soup = BeautifulSoup(request.text, \"html.parser\")\n",
        "   update = soup.find(\"div\", class_ = \"BNeawe\").text\n",
        "   e =print(x, update)\n",
        "   csv_writer.writerow([x, update,today])\n",
        "   continue\n",
        "\n",
        "  if x == \"lasvegas weather\":\n",
        "   x\n",
        "   url= f\"https://www.google.com/search?q={x}\"\n",
        "   request = re.get(url)\n",
        "   soup = BeautifulSoup(request.text, \"html.parser\")\n",
        "   update = soup.find(\"div\", class_ = \"BNeawe\").text\n",
        "  f=  print(x, update)\n",
        "  csv_writer.writerow([x, update,today])\n",
        "  break\n",
        "\n",
        "csv_file.close()\n",
        " "
      ],
      "metadata": {
        "colab": {
          "base_uri": "https://localhost:8080/"
        },
        "id": "gxICHEeVtsRp",
        "outputId": "d7fefcd6-a466-4d99-aaa8-3220fda24a5d"
      },
      "execution_count": 542,
      "outputs": [
        {
          "output_type": "stream",
          "name": "stdout",
          "text": [
            "05/10/2022\n",
            "okc weather 75°F\n",
            "ada weather 73°F\n",
            "dallas weather 78°F\n",
            "austin weather 80°F\n",
            "newyork weather 56°F\n",
            "lasvegas weather 91°F\n"
          ]
        }
      ]
    },
    {
      "cell_type": "code",
      "source": [
        "from google.colab import files\n",
        "files.download(\"weather data.csv\")"
      ],
      "metadata": {
        "colab": {
          "base_uri": "https://localhost:8080/",
          "height": 17
        },
        "id": "5KuS7xbPn6qT",
        "outputId": "7f370ef4-8316-49c5-cf5a-8da65a103487"
      },
      "execution_count": 543,
      "outputs": [
        {
          "output_type": "display_data",
          "data": {
            "text/plain": [
              "<IPython.core.display.Javascript object>"
            ],
            "application/javascript": [
              "\n",
              "    async function download(id, filename, size) {\n",
              "      if (!google.colab.kernel.accessAllowed) {\n",
              "        return;\n",
              "      }\n",
              "      const div = document.createElement('div');\n",
              "      const label = document.createElement('label');\n",
              "      label.textContent = `Downloading \"${filename}\": `;\n",
              "      div.appendChild(label);\n",
              "      const progress = document.createElement('progress');\n",
              "      progress.max = size;\n",
              "      div.appendChild(progress);\n",
              "      document.body.appendChild(div);\n",
              "\n",
              "      const buffers = [];\n",
              "      let downloaded = 0;\n",
              "\n",
              "      const channel = await google.colab.kernel.comms.open(id);\n",
              "      // Send a message to notify the kernel that we're ready.\n",
              "      channel.send({})\n",
              "\n",
              "      for await (const message of channel.messages) {\n",
              "        // Send a message to notify the kernel that we're ready.\n",
              "        channel.send({})\n",
              "        if (message.buffers) {\n",
              "          for (const buffer of message.buffers) {\n",
              "            buffers.push(buffer);\n",
              "            downloaded += buffer.byteLength;\n",
              "            progress.value = downloaded;\n",
              "          }\n",
              "        }\n",
              "      }\n",
              "      const blob = new Blob(buffers, {type: 'application/binary'});\n",
              "      const a = document.createElement('a');\n",
              "      a.href = window.URL.createObjectURL(blob);\n",
              "      a.download = filename;\n",
              "      div.appendChild(a);\n",
              "      a.click();\n",
              "      div.remove();\n",
              "    }\n",
              "  "
            ]
          },
          "metadata": {}
        },
        {
          "output_type": "display_data",
          "data": {
            "text/plain": [
              "<IPython.core.display.Javascript object>"
            ],
            "application/javascript": [
              "download(\"download_b40d6f7a-4801-4f41-8e84-400b66c3cd9a\", \"weather data.csv\", 226)"
            ]
          },
          "metadata": {}
        }
      ]
    }
  ]
}