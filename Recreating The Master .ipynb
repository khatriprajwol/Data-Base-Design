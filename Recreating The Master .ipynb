{
  "nbformat": 4,
  "nbformat_minor": 0,
  "metadata": {
    "colab": {
      "name": "Untitled37.ipynb",
      "provenance": [],
      "collapsed_sections": [],
      "authorship_tag": "ABX9TyMhW8EhHscVpxfdlF02mz1N",
      "include_colab_link": true
    },
    "kernelspec": {
      "name": "python3",
      "display_name": "Python 3"
    },
    "language_info": {
      "name": "python"
    }
  },
  "cells": [
    {
      "cell_type": "markdown",
      "metadata": {
        "id": "view-in-github",
        "colab_type": "text"
      },
      "source": [
        "<a href=\"https://colab.research.google.com/github/khatriprajwol/Data-Base-Design/blob/main/Recreating%20The%20Master%20.ipynb\" target=\"_parent\"><img src=\"https://colab.research.google.com/assets/colab-badge.svg\" alt=\"Open In Colab\"/></a>"
      ]
    },
    {
      "cell_type": "markdown",
      "source": [
        "#Recreating The Master "
      ],
      "metadata": {
        "id": "pOe1PcL_S_ke"
      }
    },
    {
      "cell_type": "code",
      "execution_count": null,
      "metadata": {
        "id": "F8s6sFCDS66h"
      },
      "outputs": [],
      "source": [
        "import requests\n",
        "import pandas as pa\n",
        "import seaborn as sns\n",
        "from bs4 import BeautifulSoup\n",
        "import numpy as np\n",
        "import matplotlib.image as mpimg\n",
        "import matplotlib.pyplot as plt\n"
      ]
    },
    {
      "cell_type": "markdown",
      "source": [
        "![Picture1](https://www.adifferentleague.co.uk/wp-content/uploads/2016/05/juve-forbes2.jpg)\n"
      ],
      "metadata": {
        "id": "O_H8i4TCW6-S"
      }
    },
    {
      "cell_type": "markdown",
      "source": [
        "The above visualization is from 2016 but I would like to create similar master piece with a current data. In order to make similar visualization I will need the name of a club and its information. I tried to search data through **ESPN** but I could not find it. Therefore my alternative option was [wikipedia](https://en.wikipedia.org/wiki/Forbes%27_list_of_the_most_valuable_football_clubs).\n",
        "\n"
      ],
      "metadata": {
        "id": "S-nVj_LtXB20"
      }
    },
    {
      "cell_type": "markdown",
      "source": [
        "\n",
        "![Picture2](https://www.adifferentleague.co.uk/wp-content/uploads/2016/05/juve-forbes.jpg)\n",
        "\n",
        "\n",
        "\n",
        "\n"
      ],
      "metadata": {
        "id": "ekBrv7xXYOkZ"
      }
    },
    {
      "cell_type": "markdown",
      "source": [
        "Here is another diagram. As we can see the change in percentage from 2015 to 2016. In my case, I will be comparing from 2019 to 2021. "
      ],
      "metadata": {
        "id": "45SrU7EfYcFh"
      }
    },
    {
      "cell_type": "code",
      "source": [
        "r = requests.get('https://en.wikipedia.org/wiki/Forbes%27_list_of_the_most_valuable_football_clubs')\n",
        "html_contents = r.text\n",
        "html_soup = BeautifulSoup(html_contents,\"lxml\")\n",
        "len(html_soup.find_all('table'))"
      ],
      "metadata": {
        "colab": {
          "base_uri": "https://localhost:8080/"
        },
        "id": "13RdZja-Udy9",
        "outputId": "d60c98c8-a521-4f2b-9946-ea1a5bee29ff"
      },
      "execution_count": null,
      "outputs": [
        {
          "output_type": "execute_result",
          "data": {
            "text/plain": [
              "17"
            ]
          },
          "metadata": {},
          "execution_count": 39
        }
      ]
    },
    {
      "cell_type": "code",
      "source": [
        "html_soup.title"
      ],
      "metadata": {
        "colab": {
          "base_uri": "https://localhost:8080/"
        },
        "id": "o9NWgRY4UXKU",
        "outputId": "36e28612-6cab-446e-87dc-411918078ff3"
      },
      "execution_count": null,
      "outputs": [
        {
          "output_type": "execute_result",
          "data": {
            "text/plain": [
              "<title>Forbes' list of the most valuable football clubs - Wikipedia</title>"
            ]
          },
          "metadata": {},
          "execution_count": 40
        }
      ]
    },
    {
      "cell_type": "code",
      "source": [
        "tables = html_soup.find_all('table')\n",
        "\n",
        "df = pa.read_html(str(tables))[0]\n",
        "df.head()"
      ],
      "metadata": {
        "colab": {
          "base_uri": "https://localhost:8080/",
          "height": 206
        },
        "id": "Q1WtoVYdUsz_",
        "outputId": "d08b77ba-f066-43bf-fd1e-1e4721062611"
      },
      "execution_count": null,
      "outputs": [
        {
          "output_type": "execute_result",
          "data": {
            "text/plain": [
              "   Rank2021 Rank2019               Team  Country  Value in$ millions  \\\n",
              "0         1        2          Barcelona    Spain                4760   \n",
              "1         2        1        Real Madrid    Spain                4750   \n",
              "2         3        4      Bayern Munich  Germany                4215   \n",
              "3         4        3  Manchester United  England                4200   \n",
              "4         5        8          Liverpool  England                4100   \n",
              "\n",
              "  % changeon year  Debt as% of value  Revenue ($M)  Operating Income ($M)  \n",
              "0              18                  6           792                     62  \n",
              "1              12                  6           790                     92  \n",
              "2              39                  0           703                     49  \n",
              "3              10                 16           643                    167  \n",
              "4              88                  2           619                     62  "
            ],
            "text/html": [
              "\n",
              "  <div id=\"df-f1d945da-ac62-4fae-8330-897065ecce9f\">\n",
              "    <div class=\"colab-df-container\">\n",
              "      <div>\n",
              "<style scoped>\n",
              "    .dataframe tbody tr th:only-of-type {\n",
              "        vertical-align: middle;\n",
              "    }\n",
              "\n",
              "    .dataframe tbody tr th {\n",
              "        vertical-align: top;\n",
              "    }\n",
              "\n",
              "    .dataframe thead th {\n",
              "        text-align: right;\n",
              "    }\n",
              "</style>\n",
              "<table border=\"1\" class=\"dataframe\">\n",
              "  <thead>\n",
              "    <tr style=\"text-align: right;\">\n",
              "      <th></th>\n",
              "      <th>Rank2021</th>\n",
              "      <th>Rank2019</th>\n",
              "      <th>Team</th>\n",
              "      <th>Country</th>\n",
              "      <th>Value in$ millions</th>\n",
              "      <th>% changeon year</th>\n",
              "      <th>Debt as% of value</th>\n",
              "      <th>Revenue ($M)</th>\n",
              "      <th>Operating Income ($M)</th>\n",
              "    </tr>\n",
              "  </thead>\n",
              "  <tbody>\n",
              "    <tr>\n",
              "      <th>0</th>\n",
              "      <td>1</td>\n",
              "      <td>2</td>\n",
              "      <td>Barcelona</td>\n",
              "      <td>Spain</td>\n",
              "      <td>4760</td>\n",
              "      <td>18</td>\n",
              "      <td>6</td>\n",
              "      <td>792</td>\n",
              "      <td>62</td>\n",
              "    </tr>\n",
              "    <tr>\n",
              "      <th>1</th>\n",
              "      <td>2</td>\n",
              "      <td>1</td>\n",
              "      <td>Real Madrid</td>\n",
              "      <td>Spain</td>\n",
              "      <td>4750</td>\n",
              "      <td>12</td>\n",
              "      <td>6</td>\n",
              "      <td>790</td>\n",
              "      <td>92</td>\n",
              "    </tr>\n",
              "    <tr>\n",
              "      <th>2</th>\n",
              "      <td>3</td>\n",
              "      <td>4</td>\n",
              "      <td>Bayern Munich</td>\n",
              "      <td>Germany</td>\n",
              "      <td>4215</td>\n",
              "      <td>39</td>\n",
              "      <td>0</td>\n",
              "      <td>703</td>\n",
              "      <td>49</td>\n",
              "    </tr>\n",
              "    <tr>\n",
              "      <th>3</th>\n",
              "      <td>4</td>\n",
              "      <td>3</td>\n",
              "      <td>Manchester United</td>\n",
              "      <td>England</td>\n",
              "      <td>4200</td>\n",
              "      <td>10</td>\n",
              "      <td>16</td>\n",
              "      <td>643</td>\n",
              "      <td>167</td>\n",
              "    </tr>\n",
              "    <tr>\n",
              "      <th>4</th>\n",
              "      <td>5</td>\n",
              "      <td>8</td>\n",
              "      <td>Liverpool</td>\n",
              "      <td>England</td>\n",
              "      <td>4100</td>\n",
              "      <td>88</td>\n",
              "      <td>2</td>\n",
              "      <td>619</td>\n",
              "      <td>62</td>\n",
              "    </tr>\n",
              "  </tbody>\n",
              "</table>\n",
              "</div>\n",
              "      <button class=\"colab-df-convert\" onclick=\"convertToInteractive('df-f1d945da-ac62-4fae-8330-897065ecce9f')\"\n",
              "              title=\"Convert this dataframe to an interactive table.\"\n",
              "              style=\"display:none;\">\n",
              "        \n",
              "  <svg xmlns=\"http://www.w3.org/2000/svg\" height=\"24px\"viewBox=\"0 0 24 24\"\n",
              "       width=\"24px\">\n",
              "    <path d=\"M0 0h24v24H0V0z\" fill=\"none\"/>\n",
              "    <path d=\"M18.56 5.44l.94 2.06.94-2.06 2.06-.94-2.06-.94-.94-2.06-.94 2.06-2.06.94zm-11 1L8.5 8.5l.94-2.06 2.06-.94-2.06-.94L8.5 2.5l-.94 2.06-2.06.94zm10 10l.94 2.06.94-2.06 2.06-.94-2.06-.94-.94-2.06-.94 2.06-2.06.94z\"/><path d=\"M17.41 7.96l-1.37-1.37c-.4-.4-.92-.59-1.43-.59-.52 0-1.04.2-1.43.59L10.3 9.45l-7.72 7.72c-.78.78-.78 2.05 0 2.83L4 21.41c.39.39.9.59 1.41.59.51 0 1.02-.2 1.41-.59l7.78-7.78 2.81-2.81c.8-.78.8-2.07 0-2.86zM5.41 20L4 18.59l7.72-7.72 1.47 1.35L5.41 20z\"/>\n",
              "  </svg>\n",
              "      </button>\n",
              "      \n",
              "  <style>\n",
              "    .colab-df-container {\n",
              "      display:flex;\n",
              "      flex-wrap:wrap;\n",
              "      gap: 12px;\n",
              "    }\n",
              "\n",
              "    .colab-df-convert {\n",
              "      background-color: #E8F0FE;\n",
              "      border: none;\n",
              "      border-radius: 50%;\n",
              "      cursor: pointer;\n",
              "      display: none;\n",
              "      fill: #1967D2;\n",
              "      height: 32px;\n",
              "      padding: 0 0 0 0;\n",
              "      width: 32px;\n",
              "    }\n",
              "\n",
              "    .colab-df-convert:hover {\n",
              "      background-color: #E2EBFA;\n",
              "      box-shadow: 0px 1px 2px rgba(60, 64, 67, 0.3), 0px 1px 3px 1px rgba(60, 64, 67, 0.15);\n",
              "      fill: #174EA6;\n",
              "    }\n",
              "\n",
              "    [theme=dark] .colab-df-convert {\n",
              "      background-color: #3B4455;\n",
              "      fill: #D2E3FC;\n",
              "    }\n",
              "\n",
              "    [theme=dark] .colab-df-convert:hover {\n",
              "      background-color: #434B5C;\n",
              "      box-shadow: 0px 1px 3px 1px rgba(0, 0, 0, 0.15);\n",
              "      filter: drop-shadow(0px 1px 2px rgba(0, 0, 0, 0.3));\n",
              "      fill: #FFFFFF;\n",
              "    }\n",
              "  </style>\n",
              "\n",
              "      <script>\n",
              "        const buttonEl =\n",
              "          document.querySelector('#df-f1d945da-ac62-4fae-8330-897065ecce9f button.colab-df-convert');\n",
              "        buttonEl.style.display =\n",
              "          google.colab.kernel.accessAllowed ? 'block' : 'none';\n",
              "\n",
              "        async function convertToInteractive(key) {\n",
              "          const element = document.querySelector('#df-f1d945da-ac62-4fae-8330-897065ecce9f');\n",
              "          const dataTable =\n",
              "            await google.colab.kernel.invokeFunction('convertToInteractive',\n",
              "                                                     [key], {});\n",
              "          if (!dataTable) return;\n",
              "\n",
              "          const docLinkHtml = 'Like what you see? Visit the ' +\n",
              "            '<a target=\"_blank\" href=https://colab.research.google.com/notebooks/data_table.ipynb>data table notebook</a>'\n",
              "            + ' to learn more about interactive tables.';\n",
              "          element.innerHTML = '';\n",
              "          dataTable['output_type'] = 'display_data';\n",
              "          await google.colab.output.renderOutput(dataTable, element);\n",
              "          const docLink = document.createElement('div');\n",
              "          docLink.innerHTML = docLinkHtml;\n",
              "          element.appendChild(docLink);\n",
              "        }\n",
              "      </script>\n",
              "    </div>\n",
              "  </div>\n",
              "  "
            ]
          },
          "metadata": {},
          "execution_count": 41
        }
      ]
    },
    {
      "cell_type": "markdown",
      "source": [
        "It is not a big data set but a perfect for me to recreate the above visualization. \n",
        "[link](https://github.com/nurfnick/Data_Viz/blob/main/RecreatingMasters.ipynb)\n"
      ],
      "metadata": {
        "id": "4A5xHfadV-23"
      }
    },
    {
      "cell_type": "code",
      "source": [
        "ax = sns.barplot(data = df, x = 'Team', y= \"Value in$ millions\", hue_order= )\n",
        "ax.set_xticklabels(ax.get_xticklabels(),rotation = 90)\n",
        "ax.set_title('TOP 20 MOST VALUABLE SOCCER TEAMS 2021')\n",
        "plt.show()"
      ],
      "metadata": {
        "colab": {
          "base_uri": "https://localhost:8080/",
          "height": 385
        },
        "id": "A6p99SBYr_MP",
        "outputId": "ae05a9ae-ed4d-44ea-d2a8-9e3951be6d5e"
      },
      "execution_count": null,
      "outputs": [
        {
          "output_type": "display_data",
          "data": {
            "text/plain": [
              "<Figure size 432x288 with 1 Axes>"
            ],
            "image/png": "[encoded data removed]"
          },
          "metadata": {
            "needs_background": "light"
          }
        }
      ]
    },
    {
      "cell_type": "markdown",
      "source": [
        "Well, the graph does not quick looks like that. But I will try to do it in a different way. Let's see if it will work. "
      ],
      "metadata": {
        "id": "ptyp6IE4tQ3l"
      }
    }
  ]
}