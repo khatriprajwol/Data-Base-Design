{
  "nbformat": 4,
  "nbformat_minor": 0,
  "metadata": {
    "colab": {
      "provenance": [],
      "collapsed_sections": [],
      "authorship_tag": "ABX9TyPf+tlf5ErU7rpzcG4iDO8n",
      "include_colab_link": true
    },
    "kernelspec": {
      "name": "python3",
      "display_name": "Python 3"
    },
    "language_info": {
      "name": "python"
    }
  },
  "cells": [
    {
      "cell_type": "markdown",
      "metadata": {
        "id": "view-in-github",
        "colab_type": "text"
      },
      "source": [
        "<a href=\"https://colab.research.google.com/github/khatriprajwol/Data-Base-Design/blob/main/Web_Scrapping.ipynb\" target=\"_parent\"><img src=\"https://colab.research.google.com/assets/colab-badge.svg\" alt=\"Open In Colab\"/></a>"
      ]
    },
    {
      "cell_type": "code",
      "execution_count": 245,
      "metadata": {
        "id": "oD7z3SBop3Up"
      },
      "outputs": [],
      "source": [
        "import numpy as np #a matrix like package for handling data\n",
        "import pandas as pa #a R like package for handling data\n",
        "from scipy import stats #a way to just get a piece of a large package\n",
        "import matplotlib.pyplot as plt #a way to generate plots, histograms, bar charts, and other types of charts \n",
        "import seaborn as sns #it is based on matplotlib\n",
        "import requests #HTTP library\n",
        "import pandas as pd # used to manipulate data and analyze it\n",
        "from bs4 import BeautifulSoup #Used for a web scraping purposes to pull the data out of HTML and XML files\n",
        "import re #Used for regular expression in Python.\n",
        "from matplotlib.offsetbox import TextArea, DrawingArea, OffsetImage, AnnotationBbox\n"
      ]
    },
    {
      "cell_type": "code",
      "source": [
        "City = \"dallas-texas\"\n",
        "url = f\"https://www.apartmentlist.com/tx/dallas\"\n",
        "page = requests.get(url)\n",
        "soup = BeautifulSoup(page.content, 'html.parser')\n",
        "lists = soup.find_all('div', class_= \"css-1jo8z95 e19g3lpj4\")\n",
        "for list in lists:\n",
        "  title = list.find('span', class_=\"css-10i63lj e19g3lpj1\")\n",
        "  location = list.find('div', class_=\"css-18zfmpq efn0zwy0\")\n",
        "  studio = list.find('div', class_=\"css-1sj6gbr efn0zwy0\")\n",
        "  studio_area = list.find('div', class_=\"css-55f9z0 efn0zwy0\")\n",
        "  one_bed = list.find('div', class_=\"css-1sj6gbr efn0zwy0\")\n",
        "  one_bed_area = list.find('div', class_=\"css-55f9z0 efn0zwy0\")\n",
        "  two_bed = list.find('div', class_=\"css-1sj6gbr efn0zwy0\")\n",
        "  two_bed_area = list.find('div', class_=\"css-55f9z0 efn0zwy0\")\n",
        "  info = [title, location, studio, studio_area, one_bed, one_bed_area, two_bed, two_bed_area]\n",
        "  print(info)\n"
      ],
      "metadata": {
        "id": "C1KpW67sdkKk"
      },
      "execution_count": 253,
      "outputs": []
    },
    {
      "cell_type": "markdown",
      "source": [
        "Got everything in HTML file. Now we have to tell soup to find the section we are actually looking for. "
      ],
      "metadata": {
        "id": "XCHkxQjSfd-D"
      }
    },
    {
      "cell_type": "code",
      "source": [
        "#City = \"dallas-texas\"\n",
        "url = f\"https://www.apartmentlist.com/tx/dallas\"\n",
        "page = requests.get(url)\n",
        "soup = BeautifulSoup(page.content, 'html.parser')\n",
        "lists = soup.find_all('div', class_= \"css-1jo8z95 e19g3lpj4\")\n",
        "for list in lists:\n",
        "  title = list.find('span', class_=\"css-10i63lj e19g3lpj1\")\n",
        "  location = list.find('div', class_=\"css-18zfmpq efn0zwy0\")\n",
        "  studio = list.find('div', class_=\"css-1sj6gbr efn0zwy0\")\n",
        "  studio_area = list.find('div', class_=\"css-55f9z0 efn0zwy0\")\n",
        "  one_bed = list.find('div', class_=\"css-1sj6gbr efn0zwy0\")\n",
        "  one_bed_area = list.find('div', class_=\"css-55f9z0 efn0zwy0\")\n",
        "  two_bed = list.find('div', class_=\"css-1sj6gbr efn0zwy0\")\n",
        "  two_bed_area = list.find('div', class_=\"css-55f9z0 efn0zwy0\")\n",
        "  info = [title, location, studio, studio_area, one_bed, one_bed_area, two_bed, two_bed_area]\n",
        "  print(info)\n"
      ],
      "metadata": {
        "id": "UPp7g6Zye2OC"
      },
      "execution_count": 252,
      "outputs": []
    }
  ]
}